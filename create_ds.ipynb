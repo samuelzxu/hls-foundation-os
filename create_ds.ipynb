{
 "cells": [
  {
   "cell_type": "code",
   "execution_count": null,
   "metadata": {},
   "outputs": [],
   "source": [
    "import rasterio\n",
    "import os\n",
    "import random\n",
    "\n",
    "files = os.listdir('../kelp_data/train_satellite')\n",
    "\n",
    "files_prefix = [f.split('_')[0] for f in files]\n",
    "val_pct = 0.2\n",
    "random.seed(42)\n",
    "\n",
    "val_files = random.sample(files_prefix, int(val_pct * len(files_prefix)))\n",
    "val_kelp_files = [f + '_kelp.tif' for f in val_files]\n",
    "val_sat_files = [f + '_satellite.tif' for f in val_files]\n",
    "for f in val_kelp_files:\n",
    "    os.rename('../kelp_data/train_kelp/' + f, '../kelp_data/val_kelp/' + f)\n",
    "for f in val_sat_files:\n",
    "    os.rename('../kelp_data/train_satellite/' + f, '../kelp_data/val_satellite/' + f)"
   ]
  },
  {
   "cell_type": "code",
   "execution_count": 12,
   "metadata": {},
   "outputs": [
    {
     "data": {
      "text/plain": [
       "(4508, 1127, 4508, 1127)"
      ]
     },
     "execution_count": 12,
     "metadata": {},
     "output_type": "execute_result"
    }
   ],
   "source": [
    "len(os.listdir('../kelp_data/train_kelp')), len(os.listdir('../kelp_data/val_kelp')), len(os.listdir('../kelp_data/train_satellite')), len(os.listdir('../kelp_data/val_satellite'))"
   ]
  },
  {
   "cell_type": "code",
   "execution_count": 19,
   "metadata": {},
   "outputs": [],
   "source": [
    "# for each file in directory, strip by '_' and rejoin '_' with the second element removed\n",
    "# and then replace the file with this new name\n",
    "mydir = '/home/ziggy/devel/kelp_data/test_inference'\n",
    "for f in os.listdir(mydir):\n",
    "    new_name = '_'.join([f.split('_')[0],f.split('_')[2]])\n",
    "    os.rename(os.path.join(mydir, f), os.path.join(mydir, new_name))\n"
   ]
  },
  {
   "cell_type": "code",
   "execution_count": null,
   "metadata": {},
   "outputs": [],
   "source": []
  }
 ],
 "metadata": {
  "kernelspec": {
   "display_name": "prithvi",
   "language": "python",
   "name": "python3"
  },
  "language_info": {
   "codemirror_mode": {
    "name": "ipython",
    "version": 3
   },
   "file_extension": ".py",
   "mimetype": "text/x-python",
   "name": "python",
   "nbconvert_exporter": "python",
   "pygments_lexer": "ipython3",
   "version": "3.9.18"
  }
 },
 "nbformat": 4,
 "nbformat_minor": 2
}
